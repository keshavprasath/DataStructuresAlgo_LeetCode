{
 "cells": [
  {
   "cell_type": "markdown",
   "id": "26ec9767",
   "metadata": {},
   "source": [
    "# BigO Reference\n",
    "\n",
    "- O(1) - Constant time complexity\n",
    "- O(log n) - Logarithmic time complexity\n",
    "- O(n) - Linear time complexity\n",
    "- O(n log n) - Linearithmic (or quasilinear) time complexity\n",
    "- O(n^2) - Quadratic time complexity\n",
    "- O(n^3) - Cubic time complexity\n",
    "- O(n^k) - Polynomial time complexity (k > 1)\n",
    "- O(k^n) - Exponential time complexity (k > 1)\n",
    "- O(n!) - Factorial time complexity"
   ]
  },
  {
   "cell_type": "markdown",
   "id": "b89f6649",
   "metadata": {},
   "source": [
    "# Array Problems"
   ]
  },
  {
   "cell_type": "markdown",
   "id": "87335da6",
   "metadata": {},
   "source": [
    "# Q1:\n",
    "#### Question 217. Contains Duplicates\n",
    "\n",
    "##### Given an integer array nums, return true if any value appears at least twice in the array, and return false if every element is distinct."
   ]
  },
  {
   "cell_type": "code",
   "execution_count": null,
   "id": "a49fee0e",
   "metadata": {},
   "outputs": [],
   "source": [
    "# Using the List Data Structure Approach\n",
    "'''\n",
    "    Logic: \n",
    "        1) have an empty list\n",
    "        2) iterate through input list\n",
    "        3) if number not already in list, add it to empty list (this way only new items get stored)\n",
    "    \n",
    "    Complexity:\n",
    "        1) will iterate through all elements in the list, might get expensive\n",
    "'''\n",
    "\n",
    "#test lists\n",
    "int_arr1 = [1,2,3,4,5]\n",
    "int_arr2 = [1,2,3,1]\n",
    "\n",
    "'''\n",
    "COME BACK: look into the details of how this list method differs from the set method. \n",
    "'''\n",
    "\n",
    "def containsdup(arr):\n",
    "    temp_list = []\n",
    "    \n",
    "    for num in arr:\n",
    "        if num in temp_list:\n",
    "            return True\n",
    "        else:\n",
    "            temp_list.append(num)\n",
    "    return False\n",
    "\n",
    "print(containsdup(int_arr1))\n",
    "print(containsdup(int_arr2))"
   ]
  },
  {
   "cell_type": "code",
   "execution_count": null,
   "id": "dc4a07cd-295c-4bcc-83b1-126017cec9e2",
   "metadata": {},
   "outputs": [],
   "source": [
    "'''\n",
    "The optimized solution for the Two Sum problem creates an empty set and iterates through the list.\n",
    "Each item is compared against the values in the set.\n",
    "\n",
    "If the item is already in the set, this means that the current value is a duplicate of an existing value in the set,\n",
    "so it returns True. If the item is not in the set, it gets added to the set for future comparison.\n",
    "This way, the solution avoids checking for duplicates by using a set to keep track of previously seen values.\n",
    "\n",
    "'''"
   ]
  },
  {
   "cell_type": "code",
   "execution_count": null,
   "id": "4be3d47e",
   "metadata": {},
   "outputs": [],
   "source": [
    "# Using set data strcut:\n",
    "\n",
    "\n",
    "\n",
    "int_arr1 = [1,2,3,4,5]\n",
    "int_arr2 = [1,2,3,1,1,1]\n",
    "\n",
    "def containsdup(arr):\n",
    "    es = set()\n",
    "    \n",
    "    for num in arr:\n",
    "        if num in es:\n",
    "            return True\n",
    "        else:\n",
    "            es.add(num)\n",
    "    return False\n",
    "\n",
    "print(containsdup(int_arr1))\n",
    "print(containsdup(int_arr2))"
   ]
  },
  {
   "cell_type": "markdown",
   "id": "7f134092-619e-4998-813b-38db6b77c5c6",
   "metadata": {},
   "source": [
    "# Q2:\n",
    "## 242. Valid Anagram\n",
    "\n",
    "#### Given two strings s and t, return true if t is an anagram of s, and false otherwise.\n",
    "\n",
    "#### An Anagram is a word or phrase formed by rearranging the letters of a different word or phrase, typically using all the original letters exactly once.\n",
    "\n",
    "Example 1:\n",
    "\n",
    "Input: s = \"anagram\", t = \"nagaram\"\n",
    "Output: true\n",
    "Example 2:\n",
    "\n",
    "Input: s = \"rat\", t = \"car\"\n",
    "Output: false"
   ]
  },
  {
   "cell_type": "code",
   "execution_count": null,
   "id": "7ca48e19-7414-4103-a195-8e792d2bdf00",
   "metadata": {},
   "outputs": [],
   "source": [
    "'''\n",
    "Logic: \n",
    "\n",
    "anagram,can be the existance of all characters of S1 in S2 exactly once\n",
    "\n",
    "#contrains\n",
    "- each character only appears once\n",
    "- second word doesnt have to be a real word (for simplicity)\n",
    "\n",
    "eg: \n",
    "[t o o t h] == [ o t o t h]\n",
    "\n",
    "create a function taking in two input string (S1,S2)\n",
    "make a dict for S1, where each letter = key, count = value\n",
    "make a dict for S2, where each letter = key, count = value\n",
    "compare S1 == S2, if yes return True, else return False\n",
    "\n",
    "\n",
    "'''"
   ]
  },
  {
   "cell_type": "code",
   "execution_count": 13,
   "id": "69d19574-5c47-4c96-b7f9-c3e6c9ce426a",
   "metadata": {},
   "outputs": [],
   "source": [
    "S1 = \"tooth\"\n",
    "S2 = \"ototh\"\n",
    "S3 = 'toothless'"
   ]
  },
  {
   "cell_type": "code",
   "execution_count": 17,
   "id": "db857882-d6dd-458e-8129-eceaee8b1bee",
   "metadata": {
    "tags": []
   },
   "outputs": [],
   "source": [
    "'''\n",
    "Complexity:\n",
    "\n",
    "The logic iterates through the string once for each letter (twice) = 2x O(n)\n",
    "Lastly, each dict is checked against one another, which is again another linear operation O(n)\n",
    "\n",
    "therefore total = 3 O(n) ~ O(n), done in linear time.\n",
    "\n",
    "'''\n",
    "\n",
    "def isAnagram(S1, S3):\n",
    "\n",
    "    S1_dict = {}\n",
    "    S2_dict = {}\n",
    "\n",
    "    for letter in S1:\n",
    "        if letter not in S1_dict:\n",
    "            S1_dict[letter] = 1\n",
    "        else:\n",
    "            S1_dict[letter] += 1\n",
    "\n",
    "    for letter in S2:\n",
    "        if letter not in S2_dict:\n",
    "            S2_dict[letter] = 1\n",
    "        else:\n",
    "            S2_dict[letter] += 1\n",
    "        \n",
    "    return S1_dict == S2_dict"
   ]
  },
  {
   "cell_type": "code",
   "execution_count": 19,
   "id": "8f6bc252-7f9d-420c-bd42-4de78867663d",
   "metadata": {},
   "outputs": [
    {
     "data": {
      "text/plain": [
       "True"
      ]
     },
     "execution_count": 19,
     "metadata": {},
     "output_type": "execute_result"
    }
   ],
   "source": [
    "isAnagram(S2,S1)"
   ]
  },
  {
   "cell_type": "markdown",
   "id": "7d2ef94b-df2a-4db9-8bb7-3a155da9b364",
   "metadata": {},
   "source": [
    "# Q3: \n",
    "## 1. Two Sum\n",
    "\n",
    "##### Given an array of integers nums and an integer target, return indices of the two numbers such that they add up to target.\n",
    "\n",
    "You may assume that each input would have exactly one solution, and you may not use the same element twice.\n",
    "You can return the answer in any order.\n",
    "\n",
    "\n",
    "Example 1:\n",
    "\n",
    "Input: nums = [2,7,11,15], target = 9\n",
    "Output: [0,1]\n",
    "Explanation: Because nums[0] + nums[1] == 9, we return [0, 1].\n",
    "Example 2:\n",
    "\n",
    "Input: nums = [3,2,4], target = 6\n",
    "Output: [1,2]\n",
    "Example 3:\n",
    "\n",
    "Input: nums = [3,3], target = 6\n",
    "Output: [0,1]"
   ]
  },
  {
   "cell_type": "markdown",
   "id": "a3783b26-1519-4dd1-9828-df23069b95ba",
   "metadata": {},
   "source": [
    "#### APPROACH:\n",
    "\n",
    "Make a matrix of possible pairing combination. For example\n",
    "\n",
    "|    | 0 | 1 | 2 | 3 |\n",
    "|----|---|---|---|---|\n",
    "| 0  | 00| 01| 02| 03|\n",
    "| 1  | 10| 11| 12| 13|\n",
    "| 2  | 20| 21| 22| 23|\n",
    "| 3  | 30| 31| 32| 33|\n",
    "\n",
    "And we are going to only look at the pair combination values above the diagonal (assuming a number cannot pair with itself)"
   ]
  },
  {
   "cell_type": "code",
   "execution_count": 34,
   "id": "5984ce36-8e64-471a-b0ce-f73ff2978f4e",
   "metadata": {},
   "outputs": [
    {
     "name": "stdout",
     "output_type": "stream",
     "text": [
      "[0, 1]\n",
      "[0, 2]\n",
      "[0, 3]\n",
      "[1, 2]\n",
      "[1, 3]\n",
      "[2, 3]\n"
     ]
    }
   ],
   "source": [
    "'''\n",
    "here we get the indexing value of the pairs \n",
    "now we can sum them up and see store the value, \n",
    "this value can be used to check against the target variable and terminate when its found a match\n",
    "'''\n",
    "\n",
    "nums = [2,7,11,15]\n",
    "target = 9\n",
    "sums = 0\n",
    "\n",
    "for i in range(len(nums)):\n",
    "    for j in range(i+1, len(nums)):\n",
    "        print([i,j])\n",
    "        \n"
   ]
  },
  {
   "cell_type": "code",
   "execution_count": 43,
   "id": "767af763-e06e-4643-898c-95d7eac6c994",
   "metadata": {},
   "outputs": [
    {
     "data": {
      "text/plain": [
       "[2, 3]"
      ]
     },
     "execution_count": 43,
     "metadata": {},
     "output_type": "execute_result"
    }
   ],
   "source": [
    "'''\n",
    "in hopes of terminating early, the while loop is used\n",
    "however, worse case time complexity is still O(n^2) as it loops through the entire list twice effectively \n",
    "'''\n",
    "\n",
    "nums = [2,7,11,15]\n",
    "target = 26\n",
    "\n",
    "def twoSum(nums, target):\n",
    "    for i in range(len(nums)):\n",
    "        for j in range(i+1, len(nums)):\n",
    "            while (nums[i]+nums[j] == target):\n",
    "                return [i,j]\n",
    "        \n",
    "twoSum(nums, target)\n",
    "\n"
   ]
  },
  {
   "cell_type": "markdown",
   "id": "1b821c38-554a-44ba-a00a-4fd86ff715fb",
   "metadata": {},
   "source": [
    "# Q4:\n",
    "## 347. Top K Frequent Elements\n",
    "\n",
    "Given an integer array nums and an integer k, return the k most frequent elements. You may return the answer in any order.\n",
    "\n",
    "Example 1:\n",
    "\n",
    "Input: nums = [1,1,1,2,2,3], k = 2\n",
    "Output: [1,2]\n",
    "Example 2:\n",
    "\n",
    "Input: nums = [1], k = 1\n",
    "Output: [1]"
   ]
  },
  {
   "cell_type": "code",
   "execution_count": null,
   "id": "f12d71d7-3599-4fac-bed1-9645771393f7",
   "metadata": {},
   "outputs": [],
   "source": [
    "'''\n",
    "Logic:\n",
    "\n",
    "    similar to Q2, use a dict to store counts, sort them by order and return top k values\n",
    "'''"
   ]
  },
  {
   "cell_type": "code",
   "execution_count": 68,
   "id": "a12b160b-dff8-4609-957e-35b1945cbdee",
   "metadata": {},
   "outputs": [],
   "source": [
    "from itertools import islice\n",
    "\n",
    "nums = [1,1,1,1,1,2,2,3,4,5,6,7,8,8,8,8,8,8]\n",
    "#nums = [4,1,-1,2,-1,2,3]\n",
    "k = 2"
   ]
  },
  {
   "cell_type": "code",
   "execution_count": 69,
   "id": "7ef1c24e-7411-42fb-a587-318b8b9a40d4",
   "metadata": {},
   "outputs": [],
   "source": [
    "'''\n",
    "\n",
    "1) Interating through the list = O(n)  where n is # in the list\n",
    "2) Sorting based on value will roughly a O(n log n) as most of the time the number of unique elements will be letter than n\n",
    "3) Selecting based ok K will be O(k)\n",
    "\n",
    "Total = O(n)+ O(n log n) + O(k) ~ O(n log n)\n",
    "'''\n",
    "\n",
    "def topKFrequent(nums, k):\n",
    "    temp_dict = {}\n",
    "    for num in nums:\n",
    "        if num not in temp_dict:\n",
    "            temp_dict[num] = 1\n",
    "        else:\n",
    "            temp_dict[num] += 1\n",
    "\n",
    "    sorted_dict_desc = {k: v for k, v in sorted(temp_dict.items(), key=lambda item: item[1], reverse=True)}\n",
    "\n",
    "    first_k_values = list(islice(sorted_dict_desc.keys(), k))\n",
    "    return first_k_values"
   ]
  },
  {
   "cell_type": "code",
   "execution_count": 70,
   "id": "8fba1f15-6b1b-4551-875b-0eefe25a262f",
   "metadata": {},
   "outputs": [
    {
     "data": {
      "text/plain": [
       "[8, 1]"
      ]
     },
     "execution_count": 70,
     "metadata": {},
     "output_type": "execute_result"
    }
   ],
   "source": [
    "topKFrequent(nums, k)"
   ]
  }
 ],
 "metadata": {
  "kernelspec": {
   "display_name": "Python 3",
   "language": "python",
   "name": "python3"
  },
  "language_info": {
   "codemirror_mode": {
    "name": "ipython",
    "version": 3
   },
   "file_extension": ".py",
   "mimetype": "text/x-python",
   "name": "python",
   "nbconvert_exporter": "python",
   "pygments_lexer": "ipython3",
   "version": "3.8.8"
  }
 },
 "nbformat": 4,
 "nbformat_minor": 5
}
