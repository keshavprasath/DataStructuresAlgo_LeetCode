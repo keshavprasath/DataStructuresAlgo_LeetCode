{
 "cells": [
  {
   "cell_type": "code",
   "execution_count": null,
   "id": "be12a99a",
   "metadata": {},
   "outputs": [],
   "source": [
    "import numpy as np"
   ]
  },
  {
   "cell_type": "markdown",
   "id": "26ec9767",
   "metadata": {},
   "source": [
    "# BigO\n",
    "\n",
    "- O(1), instant\n",
    "- O(n), linear\n",
    "- O(n^2), quadratic"
   ]
  },
  {
   "cell_type": "markdown",
   "id": "b89f6649",
   "metadata": {},
   "source": [
    "# Array"
   ]
  },
  {
   "cell_type": "markdown",
   "id": "87335da6",
   "metadata": {},
   "source": [
    "### Question 217. Contains Duplicates\n",
    "\n",
    "#### Given an integer array nums, return true if any value appears at least twice in the array, and return false if every element is distinct."
   ]
  },
  {
   "cell_type": "code",
   "execution_count": null,
   "id": "a49fee0e",
   "metadata": {},
   "outputs": [],
   "source": [
    "# Using the List Data Structure Approach\n",
    "'''\n",
    "    Logic: \n",
    "        1) have an empty list\n",
    "        2) iterate through input list\n",
    "        3) if number not already in list, add it to empty list (this way only new items get stored)\n",
    "    \n",
    "    Complexity:\n",
    "        1) will iterate through all elements in the list, might get expensive\n",
    "'''\n",
    "\n",
    "#test lists\n",
    "int_arr1 = [1,2,3,4,5]\n",
    "int_arr2 = [1,2,3,1]\n",
    "\n",
    "'''\n",
    "COME BACK: look into the details of how this list method differs from the set method. \n",
    "'''\n",
    "\n",
    "def containsdup(arr):\n",
    "    temp_list = []\n",
    "    \n",
    "    for num in arr:\n",
    "        if num in temp_list:\n",
    "            return True\n",
    "        else:\n",
    "            temp_list.append(num)\n",
    "    return False\n",
    "\n",
    "print(containsdup(int_arr1))\n",
    "print(containsdup(int_arr2))"
   ]
  },
  {
   "cell_type": "code",
   "execution_count": null,
   "id": "dc4a07cd-295c-4bcc-83b1-126017cec9e2",
   "metadata": {},
   "outputs": [],
   "source": [
    "'''\n",
    "The optimized solution for the Two Sum problem creates an empty set and iterates through the list.\n",
    "Each item is compared against the values in the set.\n",
    "\n",
    "If the item is already in the set, this means that the current value is a duplicate of an existing value in the set,\n",
    "so it returns True. If the item is not in the set, it gets added to the set for future comparison.\n",
    "This way, the solution avoids checking for duplicates by using a set to keep track of previously seen values.\n",
    "\n",
    "'''"
   ]
  },
  {
   "cell_type": "code",
   "execution_count": null,
   "id": "4be3d47e",
   "metadata": {},
   "outputs": [],
   "source": [
    "# Using set data strcut:\n",
    "\n",
    "\n",
    "\n",
    "int_arr1 = [1,2,3,4,5]\n",
    "int_arr2 = [1,2,3,1,1,1]\n",
    "\n",
    "def containsdup(arr):\n",
    "    es = set()\n",
    "    \n",
    "    for num in arr:\n",
    "        if num in es:\n",
    "            return True\n",
    "        else:\n",
    "            es.add(num)\n",
    "    return False\n",
    "\n",
    "print(containsdup(int_arr1))\n",
    "print(containsdup(int_arr2))"
   ]
  },
  {
   "cell_type": "markdown",
   "id": "7f134092-619e-4998-813b-38db6b77c5c6",
   "metadata": {},
   "source": [
    "## 242. Valid Anagram\n",
    "\n",
    "#### Given two strings s and t, return true if t is an anagram of s, and false otherwise.\n",
    "\n",
    "#### An Anagram is a word or phrase formed by rearranging the letters of a different word or phrase, typically using all the original letters exactly once.\n",
    "\n",
    "Example 1:\n",
    "\n",
    "Input: s = \"anagram\", t = \"nagaram\"\n",
    "Output: true\n",
    "Example 2:\n",
    "\n",
    "Input: s = \"rat\", t = \"car\"\n",
    "Output: false"
   ]
  },
  {
   "cell_type": "code",
   "execution_count": null,
   "id": "db857882-d6dd-458e-8129-eceaee8b1bee",
   "metadata": {},
   "outputs": [],
   "source": []
  },
  {
   "cell_type": "markdown",
   "id": "7d2ef94b-df2a-4db9-8bb7-3a155da9b364",
   "metadata": {},
   "source": [
    "## 1. Two Sum\n",
    "\n",
    "#### Given an array of integers nums and an integer target, return indices of the two numbers such that they add up to target.\n",
    "\n",
    "You may assume that each input would have exactly one solution, and you may not use the same element twice.\n",
    "You can return the answer in any order.\n",
    "\n",
    "\n",
    "Example 1:\n",
    "\n",
    "Input: nums = [2,7,11,15], target = 9\n",
    "Output: [0,1]\n",
    "Explanation: Because nums[0] + nums[1] == 9, we return [0, 1].\n",
    "Example 2:\n",
    "\n",
    "Input: nums = [3,2,4], target = 6\n",
    "Output: [1,2]\n",
    "Example 3:\n",
    "\n",
    "Input: nums = [3,3], target = 6\n",
    "Output: [0,1]"
   ]
  },
  {
   "cell_type": "markdown",
   "id": "a3783b26-1519-4dd1-9828-df23069b95ba",
   "metadata": {},
   "source": [
    "#### APPROACH:\n",
    "\n",
    "Make a matrix of possible pairing combination. For example\n",
    "\n",
    "|    | 0 | 1 | 2 | 3 |\n",
    "|----|---|---|---|---|\n",
    "| 0  | 00| 01| 02| 03|\n",
    "| 1  | 10| 11| 12| 13|\n",
    "| 2  | 20| 21| 22| 23|\n",
    "| 3  | 30| 31| 32| 33|\n",
    "\n",
    "And we are going to only look at the pair combination values above the diagonal (assuming a number cannot pair with itself)"
   ]
  },
  {
   "cell_type": "code",
   "execution_count": 34,
   "id": "5984ce36-8e64-471a-b0ce-f73ff2978f4e",
   "metadata": {},
   "outputs": [
    {
     "name": "stdout",
     "output_type": "stream",
     "text": [
      "[0, 1]\n",
      "[0, 2]\n",
      "[0, 3]\n",
      "[1, 2]\n",
      "[1, 3]\n",
      "[2, 3]\n"
     ]
    }
   ],
   "source": [
    "'''\n",
    "here we get the indexing value of the pairs \n",
    "now we can sum them up and see store the value, \n",
    "this value can be used to check against the target variable and terminate when its found a match\n",
    "'''\n",
    "\n",
    "nums = [2,7,11,15]\n",
    "target = 9\n",
    "sums = 0\n",
    "\n",
    "for i in range(len(nums)):\n",
    "    for j in range(i+1, len(nums)):\n",
    "        print([i,j])\n",
    "        \n"
   ]
  },
  {
   "cell_type": "code",
   "execution_count": 35,
   "id": "767af763-e06e-4643-898c-95d7eac6c994",
   "metadata": {},
   "outputs": [
    {
     "data": {
      "text/plain": [
       "[2, 3]"
      ]
     },
     "execution_count": 35,
     "metadata": {},
     "output_type": "execute_result"
    }
   ],
   "source": [
    "'''\n",
    "in hopes of terminating early, the while loop is used\n",
    "however, worse case time complexity is still O(n^2) as it loops through the entire list twice effectively \n",
    "'''\n",
    "\n",
    "nums = [2,7,11,15]\n",
    "target = 26\n",
    "\n",
    "def twoSum(nums, target):\n",
    "    for i in range(len(nums)):\n",
    "        for j in range(i+1, len(nums)):\n",
    "            while(nums[i]+nums[j] == target):\n",
    "                return [i,j]\n",
    "        \n",
    "twoSum(nums, target)\n",
    "\n"
   ]
  }
 ],
 "metadata": {
  "kernelspec": {
   "display_name": "Python 3",
   "language": "python",
   "name": "python3"
  },
  "language_info": {
   "codemirror_mode": {
    "name": "ipython",
    "version": 3
   },
   "file_extension": ".py",
   "mimetype": "text/x-python",
   "name": "python",
   "nbconvert_exporter": "python",
   "pygments_lexer": "ipython3",
   "version": "3.8.8"
  }
 },
 "nbformat": 4,
 "nbformat_minor": 5
}
